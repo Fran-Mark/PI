{
 "cells": [
  {
   "cell_type": "code",
   "execution_count": 1,
   "metadata": {},
   "outputs": [],
   "source": [
    "from orbit_predictor.sources import EtcTLESource\n",
    "from orbit_predictor.locations import *\n",
    "from orbit_predictor.sources import get_predictor_from_tle_lines\n",
    "from orbit_predictor.predictors.accurate import HighAccuracyTLEPredictor"
   ]
  },
  {
   "cell_type": "code",
   "execution_count": 2,
   "metadata": {},
   "outputs": [],
   "source": [
    "# BLUEWALKER-3            \n",
    "# 1 53807U 22111AL  22266.22932216  .00000807  00000+0  54234-4 0  9991\n",
    "# 2 53807  53.2033 211.8416 0011840 327.0574  32.9683 15.18334798  1861"
   ]
  },
  {
   "cell_type": "code",
   "execution_count": 3,
   "metadata": {},
   "outputs": [],
   "source": [
    "# tle_lines = (\"1 25544U 98067A   17314.40254821  .00006490  00000-0  10525-3 0  9997\",\n",
    "#             \"2 25544  51.6429  29.4166 0004559 104.3372 354.3186 15.54111847 84492\")"
   ]
  },
  {
   "cell_type": "code",
   "execution_count": 4,
   "metadata": {},
   "outputs": [],
   "source": [
    "# tle_lines = (\"1 53807U 22111AL  22275.83975176  .00003233  00000+0  17051-3 0  9991\",\n",
    "#     \"2 53807  53.2016 168.0475 0012730 357.7828   2.3110 15.18372637  3324\"\n",
    "# )"
   ]
  },
  {
   "cell_type": "code",
   "execution_count": 23,
   "metadata": {},
   "outputs": [],
   "source": [
    "#BEESAT 9\n",
    "tle_lines = (\"1 44412U 19038AC  22276.65354806  .00016016  00000-0  77611-3 0  9991\",\n",
    "    \"2 44412  97.6479 246.9046 0021697 117.1941 243.1508 15.18411127179101\"\n",
    ")"
   ]
  },
  {
   "cell_type": "code",
   "execution_count": 24,
   "metadata": {},
   "outputs": [],
   "source": [
    "predictor = get_predictor_from_tle_lines(tle_lines)"
   ]
  },
  {
   "cell_type": "code",
   "execution_count": 25,
   "metadata": {},
   "outputs": [
    {
     "name": "stdout",
     "output_type": "stream",
     "text": [
      "<PredictedPass 44412 over ET Centro Atomico on 2022-10-04 06:49:18.468263>\n"
     ]
    }
   ],
   "source": [
    "import datetime as dt\n",
    "prediction = predictor.get_next_pass(ET_CENTRO_ATOMICO)\n",
    "print(prediction)"
   ]
  },
  {
   "cell_type": "code",
   "execution_count": 26,
   "metadata": {},
   "outputs": [
    {
     "name": "stdout",
     "output_type": "stream",
     "text": [
      "2022-10-04 03:49:18\n"
     ]
    }
   ],
   "source": [
    "def UTCOffset(datetime, offset):\n",
    "    return datetime + dt.timedelta(hours=offset)\n",
    "\n",
    "print(UTCOffset(prediction.aos, -3).strftime(\"%Y-%m-%d %H:%M:%S\"))"
   ]
  },
  {
   "cell_type": "code",
   "execution_count": 27,
   "metadata": {},
   "outputs": [
    {
     "name": "stdout",
     "output_type": "stream",
     "text": [
      "(68.45478086701218, 168.89302624797196, 512.0368351309726)\n"
     ]
    }
   ],
   "source": [
    "#print angles\n",
    "print(predictor.get_position().position_llh)"
   ]
  },
  {
   "cell_type": "code",
   "execution_count": 28,
   "metadata": {},
   "outputs": [
    {
     "data": {
      "text/plain": [
       "'2022-10-04 06:49:18'"
      ]
     },
     "execution_count": 28,
     "metadata": {},
     "output_type": "execute_result"
    }
   ],
   "source": [
    "predictor.get_next_pass(ET_CENTRO_ATOMICO).aos.strftime(\"%Y-%m-%d %H:%M:%S\")"
   ]
  },
  {
   "cell_type": "code",
   "execution_count": 29,
   "metadata": {},
   "outputs": [
    {
     "data": {
      "text/plain": [
       "'2022-10-04 06:51:59'"
      ]
     },
     "execution_count": 29,
     "metadata": {},
     "output_type": "execute_result"
    }
   ],
   "source": [
    "predictor.get_next_pass(ET_CENTRO_ATOMICO, aos_at_dg=10).aos.strftime(\"%Y-%m-%d %H:%M:%S\")"
   ]
  },
  {
   "cell_type": "code",
   "execution_count": 11,
   "metadata": {},
   "outputs": [
    {
     "data": {
      "text/plain": [
       "orbit_predictor.predictors.accurate.HighAccuracyTLEPredictor"
      ]
     },
     "execution_count": 11,
     "metadata": {},
     "output_type": "execute_result"
    }
   ],
   "source": [
    "#type of predictor\n",
    "type(predictor)"
   ]
  },
  {
   "cell_type": "code",
   "execution_count": 12,
   "metadata": {},
   "outputs": [
    {
     "data": {
      "text/plain": [
       "'2022-10-04 04:41:27'"
      ]
     },
     "execution_count": 12,
     "metadata": {},
     "output_type": "execute_result"
    }
   ],
   "source": [
    "predictor.get_next_pass(ET_CENTRO_ATOMICO, aos_at_dg=9).aos.strftime(\"%Y-%m-%d %H:%M:%S\")"
   ]
  },
  {
   "cell_type": "code",
   "execution_count": 13,
   "metadata": {},
   "outputs": [
    {
     "data": {
      "text/plain": [
       "94.84342315125785"
      ]
     },
     "execution_count": 13,
     "metadata": {},
     "output_type": "execute_result"
    }
   ],
   "source": [
    "predictor.period"
   ]
  },
  {
   "cell_type": "code",
   "execution_count": 14,
   "metadata": {},
   "outputs": [],
   "source": [
    "def getDopplerFactor(predictor : HighAccuracyTLEPredictor, location : Location):\n",
    "    position = predictor.get_position()\n",
    "    doppler_from_location = location.doppler_factor(position)\n",
    "    return doppler_from_location"
   ]
  },
  {
   "cell_type": "code",
   "execution_count": 15,
   "metadata": {},
   "outputs": [
    {
     "name": "stdout",
     "output_type": "stream",
     "text": [
      "0.9999823120363902\n"
     ]
    }
   ],
   "source": [
    "print(getDopplerFactor(predictor, ET_CENTRO_ATOMICO))"
   ]
  },
  {
   "cell_type": "code",
   "execution_count": 16,
   "metadata": {},
   "outputs": [],
   "source": [
    "def dopplerShift(frequency, dopplerFactor):\n",
    "    return frequency*(dopplerFactor - 1)"
   ]
  },
  {
   "cell_type": "code",
   "execution_count": 17,
   "metadata": {},
   "outputs": [
    {
     "name": "stdout",
     "output_type": "stream",
     "text": [
      "-7712.18698246745\n"
     ]
    }
   ],
   "source": [
    "f = 436e6\n",
    "print(dopplerShift(f, getDopplerFactor(predictor, ET_CENTRO_ATOMICO)))"
   ]
  },
  {
   "cell_type": "code",
   "execution_count": 21,
   "metadata": {},
   "outputs": [],
   "source": [
    "import numpy as np"
   ]
  },
  {
   "cell_type": "code",
   "execution_count": 22,
   "metadata": {},
   "outputs": [
    {
     "name": "stdout",
     "output_type": "stream",
     "text": [
      "340.7039333966027 -28.819338848781253\n"
     ]
    }
   ],
   "source": [
    "#get azimuth elevation\n",
    "az, el = ET_CENTRO_ATOMICO.get_azimuth_elev(predictor.get_position())\n",
    "#print in deg\n",
    "print(np.rad2deg(az), np.rad2deg(el))"
   ]
  },
  {
   "cell_type": "code",
   "execution_count": null,
   "metadata": {},
   "outputs": [],
   "source": []
  }
 ],
 "metadata": {
  "kernelspec": {
   "display_name": "Python 3.10.6 64-bit",
   "language": "python",
   "name": "python3"
  },
  "language_info": {
   "codemirror_mode": {
    "name": "ipython",
    "version": 3
   },
   "file_extension": ".py",
   "mimetype": "text/x-python",
   "name": "python",
   "nbconvert_exporter": "python",
   "pygments_lexer": "ipython3",
   "version": "3.10.7"
  },
  "orig_nbformat": 4,
  "vscode": {
   "interpreter": {
    "hash": "e7370f93d1d0cde622a1f8e1c04877d8463912d04d973331ad4851f04de6915a"
   }
  }
 },
 "nbformat": 4,
 "nbformat_minor": 2
}
