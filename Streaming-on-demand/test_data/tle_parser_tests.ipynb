{
 "cells": [
  {
   "cell_type": "code",
   "execution_count": 102,
   "metadata": {},
   "outputs": [],
   "source": [
    "from orbit_predictor.sources import EtcTLESource\n",
    "from orbit_predictor.locations import *\n",
    "from orbit_predictor.sources import get_predictor_from_tle_lines\n",
    "from orbit_predictor.predictors.accurate import HighAccuracyTLEPredictor"
   ]
  },
  {
   "cell_type": "code",
   "execution_count": 54,
   "metadata": {},
   "outputs": [],
   "source": [
    "tle_lines = (\"1 25544U 98067A   17314.40254821  .00006490  00000-0  10525-3 0  9997\",\n",
    "            \"2 25544  51.6429  29.4166 0004559 104.3372 354.3186 15.54111847 84492\")"
   ]
  },
  {
   "cell_type": "code",
   "execution_count": 55,
   "metadata": {},
   "outputs": [],
   "source": [
    "predictor = get_predictor_from_tle_lines(tle_lines)"
   ]
  },
  {
   "cell_type": "code",
   "execution_count": 56,
   "metadata": {},
   "outputs": [
    {
     "name": "stdout",
     "output_type": "stream",
     "text": [
      "<PredictedPass 25544 over ET Centro Atomico on 2022-09-21 18:42:10.353623>\n"
     ]
    }
   ],
   "source": [
    "import datetime as dt\n",
    "prediction = predictor.get_next_pass(ET_CENTRO_ATOMICO)\n",
    "print(prediction)"
   ]
  },
  {
   "cell_type": "code",
   "execution_count": 67,
   "metadata": {},
   "outputs": [
    {
     "name": "stdout",
     "output_type": "stream",
     "text": [
      "2022-09-21 15:42:10\n"
     ]
    }
   ],
   "source": [
    "def UTCOffset(datetime, offset):\n",
    "    return datetime + dt.timedelta(hours=offset)\n",
    "\n",
    "print(UTCOffset(prediction.aos, -3).strftime(\"%Y-%m-%d %H:%M:%S\"))"
   ]
  },
  {
   "cell_type": "code",
   "execution_count": 62,
   "metadata": {},
   "outputs": [
    {
     "name": "stdout",
     "output_type": "stream",
     "text": [
      "(-42.70279054287877, 178.00653056056697, 277.4790521022687)\n"
     ]
    }
   ],
   "source": [
    "#print angles\n",
    "print(predictor.get_position().position_llh)"
   ]
  },
  {
   "cell_type": "code",
   "execution_count": 75,
   "metadata": {},
   "outputs": [
    {
     "data": {
      "text/plain": [
       "'2022-09-21 18:42:10'"
      ]
     },
     "execution_count": 75,
     "metadata": {},
     "output_type": "execute_result"
    }
   ],
   "source": [
    "predictor.get_next_pass(ET_CENTRO_ATOMICO).aos.strftime(\"%Y-%m-%d %H:%M:%S\")"
   ]
  },
  {
   "cell_type": "code",
   "execution_count": 93,
   "metadata": {},
   "outputs": [
    {
     "data": {
      "text/plain": [
       "'2022-09-21 20:16:26'"
      ]
     },
     "execution_count": 93,
     "metadata": {},
     "output_type": "execute_result"
    }
   ],
   "source": [
    "predictor.get_next_pass(ET_CENTRO_ATOMICO, aos_at_dg=10).aos.strftime(\"%Y-%m-%d %H:%M:%S\")"
   ]
  },
  {
   "cell_type": "code",
   "execution_count": 101,
   "metadata": {},
   "outputs": [
    {
     "data": {
      "text/plain": [
       "orbit_predictor.predictors.accurate.HighAccuracyTLEPredictor"
      ]
     },
     "execution_count": 101,
     "metadata": {},
     "output_type": "execute_result"
    }
   ],
   "source": [
    "#type of predictor\n",
    "type(predictor)"
   ]
  },
  {
   "cell_type": "code",
   "execution_count": 94,
   "metadata": {},
   "outputs": [
    {
     "data": {
      "text/plain": [
       "'2022-09-21 18:44:55'"
      ]
     },
     "execution_count": 94,
     "metadata": {},
     "output_type": "execute_result"
    }
   ],
   "source": [
    "predictor.get_next_pass(ET_CENTRO_ATOMICO, aos_at_dg=9).aos.strftime(\"%Y-%m-%d %H:%M:%S\")"
   ]
  },
  {
   "cell_type": "code",
   "execution_count": 95,
   "metadata": {},
   "outputs": [
    {
     "data": {
      "text/plain": [
       "92.66775495391822"
      ]
     },
     "execution_count": 95,
     "metadata": {},
     "output_type": "execute_result"
    }
   ],
   "source": [
    "predictor.period"
   ]
  },
  {
   "cell_type": "code",
   "execution_count": 115,
   "metadata": {},
   "outputs": [],
   "source": [
    "def getDopplerFactor(predictor : HighAccuracyTLEPredictor, location : Location):\n",
    "    position = predictor.get_position()\n",
    "    doppler_from_location = location.doppler_factor(position)\n",
    "    return doppler_from_location"
   ]
  },
  {
   "cell_type": "code",
   "execution_count": 116,
   "metadata": {},
   "outputs": [
    {
     "name": "stdout",
     "output_type": "stream",
     "text": [
      "1.0000097232049727\n"
     ]
    }
   ],
   "source": [
    "print(getDopplerFactor(predictor, ET_CENTRO_ATOMICO))"
   ]
  },
  {
   "cell_type": "code",
   "execution_count": 121,
   "metadata": {},
   "outputs": [],
   "source": [
    "def dopplerShift(frequency, dopplerFactor):\n",
    "    return frequency*(dopplerFactor - 1)"
   ]
  },
  {
   "cell_type": "code",
   "execution_count": 122,
   "metadata": {},
   "outputs": [
    {
     "name": "stdout",
     "output_type": "stream",
     "text": [
      "3240.5863795839095\n"
     ]
    }
   ],
   "source": [
    "f = 436e6\n",
    "print(dopplerShift(f, getDopplerFactor(predictor, ET_CENTRO_ATOMICO)))"
   ]
  },
  {
   "cell_type": "code",
   "execution_count": null,
   "metadata": {},
   "outputs": [],
   "source": []
  }
 ],
 "metadata": {
  "kernelspec": {
   "display_name": "Python 3.10.6 64-bit",
   "language": "python",
   "name": "python3"
  },
  "language_info": {
   "codemirror_mode": {
    "name": "ipython",
    "version": 3
   },
   "file_extension": ".py",
   "mimetype": "text/x-python",
   "name": "python",
   "nbconvert_exporter": "python",
   "pygments_lexer": "ipython3",
   "version": "3.10.6"
  },
  "orig_nbformat": 4,
  "vscode": {
   "interpreter": {
    "hash": "e7370f93d1d0cde622a1f8e1c04877d8463912d04d973331ad4851f04de6915a"
   }
  }
 },
 "nbformat": 4,
 "nbformat_minor": 2
}
